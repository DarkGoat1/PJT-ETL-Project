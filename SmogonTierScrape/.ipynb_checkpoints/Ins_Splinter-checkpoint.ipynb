{
 "cells": [
  {
   "cell_type": "code",
   "execution_count": 115,
   "metadata": {},
   "outputs": [],
   "source": [
    "from splinter import Browser\n",
    "from bs4 import BeautifulSoup"
   ]
  },
  {
   "cell_type": "markdown",
   "metadata": {},
   "source": [
    "# Mac Users"
   ]
  },
  {
   "cell_type": "code",
   "execution_count": 2,
   "metadata": {
    "scrolled": true
   },
   "outputs": [
    {
     "name": "stderr",
     "output_type": "stream",
     "text": [
      "which: no chromedriver in (/c/Users/Peter/Anaconda3/Library/bin:/c/Users/Peter/bin:/mingw64/bin:/usr/local/bin:/usr/bin:/usr/bin:/mingw64/bin:/usr/bin:/c/Users/Peter/bin:/c/Program Files (x86)/Intel/Intel(R) Management Engine Components/iCLS:/c/Program Files/Intel/Intel(R) Management Engine Components/iCLS:/c/WINDOWS/system32:/c/WINDOWS:/c/WINDOWS/System32/Wbem:/c/WINDOWS/System32/WindowsPowerShell/v1.0:/c/Program Files (x86)/Intel/Intel(R) Management Engine Components/DAL:/c/Program Files/Intel/Intel(R) Management Engine Components/DAL:/c/Program Files (x86)/Intel/Intel(R) Management Engine Components/IPT:/c/Program Files/Intel/Intel(R) Management Engine Components/IPT:/c/Program Files/Microsoft VS Code/bin:/cmd:/c/WINDOWS/System32/OpenSSH:/c/Program Files/MySQL/MySQL Utilities 1.6:/c/Program Files/MongoDB/Server/4.0/bin:/c/Users/Peter/AppData/Local/Microsoft/WindowsApps:/c/Program Files/heroku/bin:/c/Users/Peter/AppData/Local/Programs/Python/Python37-32:/c/Users/Peter/Anaconda3:/c/Users/Peter/Anaconda3/Scripts:/usr/bin/vendor_perl:/usr/bin/core_perl)\n"
     ]
    }
   ],
   "source": [
    "# https://splinter.readthedocs.io/en/latest/drivers/chrome.html\n",
    "!which chromedriver"
   ]
  },
  {
   "cell_type": "code",
   "execution_count": 5,
   "metadata": {},
   "outputs": [],
   "source": []
  },
  {
   "cell_type": "markdown",
   "metadata": {},
   "source": [
    "# Windows Users"
   ]
  },
  {
   "cell_type": "code",
   "execution_count": 116,
   "metadata": {},
   "outputs": [],
   "source": [
    "executable_path = {'executable_path': 'chromedriver.exe'}\n",
    "browser = Browser('chrome', **executable_path, headless=False)"
   ]
  },
  {
   "cell_type": "code",
   "execution_count": 117,
   "metadata": {},
   "outputs": [],
   "source": [
    "url = 'https://www.smogon.com/dex/gs/pokemon/'\n",
    "browser.visit(url)"
   ]
  },
  {
   "cell_type": "code",
   "execution_count": 134,
   "metadata": {},
   "outputs": [
    {
     "ename": "AttributeError",
     "evalue": "ResultSet object has no attribute 'get_text'. You're probably treating a list of items like a single item. Did you call find_all() when you meant to call find()?",
     "output_type": "error",
     "traceback": [
      "\u001b[1;31m---------------------------------------------------------------------------\u001b[0m",
      "\u001b[1;31mAttributeError\u001b[0m                            Traceback (most recent call last)",
      "\u001b[1;32m<ipython-input-134-5e004993bf44>\u001b[0m in \u001b[0;36m<module>\u001b[1;34m()\u001b[0m\n\u001b[0;32m      6\u001b[0m \u001b[0msoup\u001b[0m\u001b[1;33m.\u001b[0m\u001b[0mfind_all\u001b[0m\u001b[1;33m(\u001b[0m\u001b[1;34m\"a\"\u001b[0m\u001b[1;33m,\u001b[0m \u001b[0mhref\u001b[0m\u001b[1;33m=\u001b[0m\u001b[0mre\u001b[0m\u001b[1;33m.\u001b[0m\u001b[0mcompile\u001b[0m\u001b[1;33m(\u001b[0m\u001b[1;34m\"/dex/gs/formats/\"\u001b[0m\u001b[1;33m)\u001b[0m\u001b[1;33m)\u001b[0m\u001b[1;33m\u001b[0m\u001b[0m\n\u001b[0;32m      7\u001b[0m \u001b[0mtiers\u001b[0m \u001b[1;33m=\u001b[0m \u001b[0msoup\u001b[0m\u001b[1;33m.\u001b[0m\u001b[0mfind_all\u001b[0m\u001b[1;33m(\u001b[0m\u001b[1;34m\"a\"\u001b[0m\u001b[1;33m,\u001b[0m \u001b[0mhref\u001b[0m\u001b[1;33m=\u001b[0m\u001b[1;32mlambda\u001b[0m \u001b[0mhref\u001b[0m\u001b[1;33m:\u001b[0m \u001b[0mhref\u001b[0m \u001b[1;32mand\u001b[0m \u001b[1;34m\"/dex/gs/formats/\"\u001b[0m \u001b[1;32min\u001b[0m \u001b[0mhref\u001b[0m\u001b[1;33m)\u001b[0m\u001b[1;33m\u001b[0m\u001b[0m\n\u001b[1;32m----> 8\u001b[1;33m \u001b[0mtiers\u001b[0m\u001b[1;33m.\u001b[0m\u001b[0mget_text\u001b[0m\u001b[1;33m\u001b[0m\u001b[0m\n\u001b[0m",
      "\u001b[1;32m~\\Anaconda3\\lib\\site-packages\\bs4\\element.py\u001b[0m in \u001b[0;36m__getattr__\u001b[1;34m(self, key)\u001b[0m\n\u001b[0;32m   1805\u001b[0m     \u001b[1;32mdef\u001b[0m \u001b[0m__getattr__\u001b[0m\u001b[1;33m(\u001b[0m\u001b[0mself\u001b[0m\u001b[1;33m,\u001b[0m \u001b[0mkey\u001b[0m\u001b[1;33m)\u001b[0m\u001b[1;33m:\u001b[0m\u001b[1;33m\u001b[0m\u001b[0m\n\u001b[0;32m   1806\u001b[0m         raise AttributeError(\n\u001b[1;32m-> 1807\u001b[1;33m             \u001b[1;34m\"ResultSet object has no attribute '%s'. You're probably treating a list of items like a single item. Did you call find_all() when you meant to call find()?\"\u001b[0m \u001b[1;33m%\u001b[0m \u001b[0mkey\u001b[0m\u001b[1;33m\u001b[0m\u001b[0m\n\u001b[0m\u001b[0;32m   1808\u001b[0m         )\n",
      "\u001b[1;31mAttributeError\u001b[0m: ResultSet object has no attribute 'get_text'. You're probably treating a list of items like a single item. Did you call find_all() when you meant to call find()?"
     ]
    }
   ],
   "source": [
    "import re\n",
    "\n",
    "html = browser.html\n",
    "soup = BeautifulSoup(html, 'html.parser')\n",
    "\n",
    "soup.find_all(\"a\", href=re.compile(\"/dex/gs/formats/\"))\n",
    "tiers = soup.find_all(\"a\", href=lambda href: href and \"/dex/gs/formats/\" in href)\n"
   ]
  },
  {
   "cell_type": "code",
   "execution_count": 132,
   "metadata": {
    "scrolled": true
   },
   "outputs": [
    {
     "data": {
      "text/html": [
       "<div>\n",
       "<style scoped>\n",
       "    .dataframe tbody tr th:only-of-type {\n",
       "        vertical-align: middle;\n",
       "    }\n",
       "\n",
       "    .dataframe tbody tr th {\n",
       "        vertical-align: top;\n",
       "    }\n",
       "\n",
       "    .dataframe thead th {\n",
       "        text-align: right;\n",
       "    }\n",
       "</style>\n",
       "<table border=\"1\" class=\"dataframe\">\n",
       "  <thead>\n",
       "    <tr style=\"text-align: right;\">\n",
       "      <th></th>\n",
       "      <th>0</th>\n",
       "      <th>scrape</th>\n",
       "    </tr>\n",
       "  </thead>\n",
       "  <tbody>\n",
       "    <tr>\n",
       "      <th>0</th>\n",
       "      <td>&lt;a class=\"DexNavButton\" data-reactid=\".0.0.0.2...</td>\n",
       "      <td>&lt;a class=\"DexNavButton\" data-reactid=\".0.0.0.2...</td>\n",
       "    </tr>\n",
       "    <tr>\n",
       "      <th>1</th>\n",
       "      <td>&lt;a data-reactid=\".0.1.1.2.$Abra.4.0.$LC.0\" hre...</td>\n",
       "      <td>&lt;a data-reactid=\".0.1.1.2.$Abra.4.0.$LC.0\" hre...</td>\n",
       "    </tr>\n",
       "    <tr>\n",
       "      <th>2</th>\n",
       "      <td>&lt;a data-reactid=\".0.1.1.2.$Aerodactyl.4.0.$UUB...</td>\n",
       "      <td>&lt;a data-reactid=\".0.1.1.2.$Aerodactyl.4.0.$UUB...</td>\n",
       "    </tr>\n",
       "    <tr>\n",
       "      <th>3</th>\n",
       "      <td>&lt;a data-reactid=\".0.1.1.2.$Aipom.4.0.$NU.0\" hr...</td>\n",
       "      <td>&lt;a data-reactid=\".0.1.1.2.$Aipom.4.0.$NU.0\" hr...</td>\n",
       "    </tr>\n",
       "    <tr>\n",
       "      <th>4</th>\n",
       "      <td>&lt;a data-reactid=\".0.1.1.2.$Alakazam.4.0.$UUBL....</td>\n",
       "      <td>&lt;a data-reactid=\".0.1.1.2.$Alakazam.4.0.$UUBL....</td>\n",
       "    </tr>\n",
       "    <tr>\n",
       "      <th>5</th>\n",
       "      <td>&lt;a data-reactid=\".0.1.1.2.$Ampharos.4.0.$UU.0\"...</td>\n",
       "      <td>&lt;a data-reactid=\".0.1.1.2.$Ampharos.4.0.$UU.0\"...</td>\n",
       "    </tr>\n",
       "    <tr>\n",
       "      <th>6</th>\n",
       "      <td>&lt;a data-reactid=\".0.1.1.2.$Arbok.4.0.$NU.0\" hr...</td>\n",
       "      <td>&lt;a data-reactid=\".0.1.1.2.$Arbok.4.0.$NU.0\" hr...</td>\n",
       "    </tr>\n",
       "    <tr>\n",
       "      <th>7</th>\n",
       "      <td>&lt;a data-reactid=\".0.1.1.2.$Arcanine.4.0.$UU.0\"...</td>\n",
       "      <td>&lt;a data-reactid=\".0.1.1.2.$Arcanine.4.0.$UU.0\"...</td>\n",
       "    </tr>\n",
       "    <tr>\n",
       "      <th>8</th>\n",
       "      <td>&lt;a data-reactid=\".0.1.1.2.$Ariados.4.0.$NU.0\" ...</td>\n",
       "      <td>&lt;a data-reactid=\".0.1.1.2.$Ariados.4.0.$NU.0\" ...</td>\n",
       "    </tr>\n",
       "    <tr>\n",
       "      <th>9</th>\n",
       "      <td>&lt;a data-reactid=\".0.1.1.2.$Articuno.4.0.$UUBL....</td>\n",
       "      <td>&lt;a data-reactid=\".0.1.1.2.$Articuno.4.0.$UUBL....</td>\n",
       "    </tr>\n",
       "    <tr>\n",
       "      <th>10</th>\n",
       "      <td>&lt;a data-reactid=\".0.1.1.2.$Azumarill.4.0.$NU.0...</td>\n",
       "      <td>&lt;a data-reactid=\".0.1.1.2.$Azumarill.4.0.$NU.0...</td>\n",
       "    </tr>\n",
       "    <tr>\n",
       "      <th>11</th>\n",
       "      <td>&lt;a data-reactid=\".0.1.1.2.$Beedrill.4.0.$NU.0\"...</td>\n",
       "      <td>&lt;a data-reactid=\".0.1.1.2.$Beedrill.4.0.$NU.0\"...</td>\n",
       "    </tr>\n",
       "    <tr>\n",
       "      <th>12</th>\n",
       "      <td>&lt;a data-reactid=\".0.1.1.2.$Bellossom.4.0.$UU.0...</td>\n",
       "      <td>&lt;a data-reactid=\".0.1.1.2.$Bellossom.4.0.$UU.0...</td>\n",
       "    </tr>\n",
       "  </tbody>\n",
       "</table>\n",
       "</div>"
      ],
      "text/plain": [
       "                                                    0  \\\n",
       "0   <a class=\"DexNavButton\" data-reactid=\".0.0.0.2...   \n",
       "1   <a data-reactid=\".0.1.1.2.$Abra.4.0.$LC.0\" hre...   \n",
       "2   <a data-reactid=\".0.1.1.2.$Aerodactyl.4.0.$UUB...   \n",
       "3   <a data-reactid=\".0.1.1.2.$Aipom.4.0.$NU.0\" hr...   \n",
       "4   <a data-reactid=\".0.1.1.2.$Alakazam.4.0.$UUBL....   \n",
       "5   <a data-reactid=\".0.1.1.2.$Ampharos.4.0.$UU.0\"...   \n",
       "6   <a data-reactid=\".0.1.1.2.$Arbok.4.0.$NU.0\" hr...   \n",
       "7   <a data-reactid=\".0.1.1.2.$Arcanine.4.0.$UU.0\"...   \n",
       "8   <a data-reactid=\".0.1.1.2.$Ariados.4.0.$NU.0\" ...   \n",
       "9   <a data-reactid=\".0.1.1.2.$Articuno.4.0.$UUBL....   \n",
       "10  <a data-reactid=\".0.1.1.2.$Azumarill.4.0.$NU.0...   \n",
       "11  <a data-reactid=\".0.1.1.2.$Beedrill.4.0.$NU.0\"...   \n",
       "12  <a data-reactid=\".0.1.1.2.$Bellossom.4.0.$UU.0...   \n",
       "\n",
       "                                               scrape  \n",
       "0   <a class=\"DexNavButton\" data-reactid=\".0.0.0.2...  \n",
       "1   <a data-reactid=\".0.1.1.2.$Abra.4.0.$LC.0\" hre...  \n",
       "2   <a data-reactid=\".0.1.1.2.$Aerodactyl.4.0.$UUB...  \n",
       "3   <a data-reactid=\".0.1.1.2.$Aipom.4.0.$NU.0\" hr...  \n",
       "4   <a data-reactid=\".0.1.1.2.$Alakazam.4.0.$UUBL....  \n",
       "5   <a data-reactid=\".0.1.1.2.$Ampharos.4.0.$UU.0\"...  \n",
       "6   <a data-reactid=\".0.1.1.2.$Arbok.4.0.$NU.0\" hr...  \n",
       "7   <a data-reactid=\".0.1.1.2.$Arcanine.4.0.$UU.0\"...  \n",
       "8   <a data-reactid=\".0.1.1.2.$Ariados.4.0.$NU.0\" ...  \n",
       "9   <a data-reactid=\".0.1.1.2.$Articuno.4.0.$UUBL....  \n",
       "10  <a data-reactid=\".0.1.1.2.$Azumarill.4.0.$NU.0...  \n",
       "11  <a data-reactid=\".0.1.1.2.$Beedrill.4.0.$NU.0\"...  \n",
       "12  <a data-reactid=\".0.1.1.2.$Bellossom.4.0.$UU.0...  "
      ]
     },
     "execution_count": 132,
     "metadata": {},
     "output_type": "execute_result"
    }
   ],
   "source": [
    "import pandas as pd\n",
    "\n",
    "tierframe = pd.DataFrame(data=tiers)\n",
    "\n",
    "filtervals = ['<a data-reactid=\".0.1.1.2.$', '.4.0.$LC.0\" href=\"/dex/gs/formats/lc/\">', '</a>']\n",
    "\n",
    "tierframe['scrape'] = tierframe[0]\n",
    "\n",
    "fuckme['FUCK'] = tierframe.replace(\"<\", \"_\", regex=True)   \n",
    "\n",
    "tierframe"
   ]
  },
  {
   "cell_type": "code",
   "execution_count": null,
   "metadata": {},
   "outputs": [],
   "source": []
  },
  {
   "cell_type": "code",
   "execution_count": null,
   "metadata": {},
   "outputs": [],
   "source": []
  },
  {
   "cell_type": "code",
   "execution_count": null,
   "metadata": {},
   "outputs": [],
   "source": []
  },
  {
   "cell_type": "code",
   "execution_count": null,
   "metadata": {},
   "outputs": [],
   "source": []
  }
 ],
 "metadata": {
  "kernelspec": {
   "display_name": "Python 3",
   "language": "python",
   "name": "python3"
  },
  "language_info": {
   "codemirror_mode": {
    "name": "ipython",
    "version": 3
   },
   "file_extension": ".py",
   "mimetype": "text/x-python",
   "name": "python",
   "nbconvert_exporter": "python",
   "pygments_lexer": "ipython3",
   "version": "3.6.5"
  },
  "varInspector": {
   "cols": {
    "lenName": 16,
    "lenType": 16,
    "lenVar": 40
   },
   "kernels_config": {
    "python": {
     "delete_cmd_postfix": "",
     "delete_cmd_prefix": "del ",
     "library": "var_list.py",
     "varRefreshCmd": "print(var_dic_list())"
    },
    "r": {
     "delete_cmd_postfix": ") ",
     "delete_cmd_prefix": "rm(",
     "library": "var_list.r",
     "varRefreshCmd": "cat(var_dic_list()) "
    }
   },
   "types_to_exclude": [
    "module",
    "function",
    "builtin_function_or_method",
    "instance",
    "_Feature"
   ],
   "window_display": false
  }
 },
 "nbformat": 4,
 "nbformat_minor": 2
}
